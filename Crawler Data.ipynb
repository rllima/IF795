{
 "cells": [
  {
   "cell_type": "code",
   "execution_count": 1,
   "metadata": {},
   "outputs": [],
   "source": [
    "import pandas as pd\n",
    "import numpy as np\n",
    "import requests as rq\n",
    "import time\n",
    "from requests.exceptions import HTTPError\n",
    "import json\n",
    "from jsonschema import validate\n",
    "from riotwatcher import LolWatcher, ApiError"
   ]
  },
  {
   "cell_type": "code",
   "execution_count": 3,
   "metadata": {},
   "outputs": [],
   "source": [
    "API_KEY = \"RGAPI-f5ffc1a2-3502-459e-9997-d9441d21f3d8\"\n",
    "base_diamond = \"https://br1.api.riotgames.com/lol/league/v4/entries/RANKED_SOLO_5x5/\"\n",
    "base_challenger = \"https://br1.api.riotgames.com/lol/league/v4/challengerleagues/by-queue/RANKED_SOLO_5x5/\"\n",
    "base_master = \"https://br1.api.riotgames.com/lol/league/v4/masterleagues/by-queue/RANKED_SOLO_5x5\"\n",
    "base_grand_master = \"https://br1.api.riotgames.com/lol/league/v4/grandmasterleagues/by-queue/RANKED_SOLO_5x5\"\n",
    "\n",
    "base_summoner_infos = \"https://br1.api.riotgames.com/lol/summoner/v4/summoners/by-name/\""
   ]
  },
  {
   "cell_type": "code",
   "execution_count": 4,
   "metadata": {},
   "outputs": [],
   "source": [
    "watcher = LolWatcher(API_KEY)\n",
    "my_region = 'br1'"
   ]
  },
  {
   "cell_type": "code",
   "execution_count": 4,
   "metadata": {},
   "outputs": [],
   "source": [
    "def makeRequest(string):\n",
    "    try:\n",
    "        response = rq.get(string)\n",
    "        response.raise_for_status()\n",
    "    except HTTPError:\n",
    "        if response.status_code == 429:\n",
    "            time.sleep(120)\n",
    "            makeRequest(string)\n",
    "    return response.json()"
   ]
  },
  {
   "cell_type": "code",
   "execution_count": 5,
   "metadata": {},
   "outputs": [],
   "source": [
    "def getLowEloInfos(json):\n",
    "    df = pd.DataFrame(json)\n",
    "    df[\"tier\"] = df['tier'] + df[\"rank\"]\n",
    "    df.drop([\"leagueId\",\"queueType\",\"rank\",\"miniSeries\"], axis=1,inplace=True)\n",
    "    return df   "
   ]
  },
  {
   "cell_type": "code",
   "execution_count": 6,
   "metadata": {},
   "outputs": [],
   "source": [
    "def getHighEloInfos(json):\n",
    "    df_aux = pd.DataFrame(json[\"entries\"])\n",
    "    df_aux.drop(\"rank\", axis=1, inplace=True)\n",
    "    df_aux[\"tier\"] = \"MASTER\"\n",
    "    df_aux = df_aux.reindex(\n",
    "        columns=['tier', 'summonerId', 'summonerName', \n",
    "                 'leaguePoints', 'wins', 'losses','veteran',\n",
    "                 'inactive', 'freshBlood', 'hotStreak'])\n",
    "    return df_aux"
   ]
  },
  {
   "cell_type": "code",
   "execution_count": 10,
   "metadata": {},
   "outputs": [
    {
     "name": "stdout",
     "output_type": "stream",
     "text": [
      "CPU times: user 284 ms, sys: 51 ms, total: 335 ms\n",
      "Wall time: 6.37 s\n"
     ]
    }
   ],
   "source": [
    "%%time\n",
    "divisions = [\"I\",\"II\",\"III\",\"IV\"]\n",
    "tiers = [\"DIAMOND\",\"MASTER\",\"GRANDMASTER\",\"CHALLENGER\"]\n",
    "df = pd.DataFrame()\n",
    "for i in tiers:\n",
    "    if i == \"DIAMOND\":\n",
    "        for j in divisions:\n",
    "            string = base_diamond + i + \"/\" + j + \"?api_key=\" + API_KEY\n",
    "            df_aux = getLowEloInfos(makeRequest(string))\n",
    "            df = df.append(df_aux,ignore_index = True)\n",
    "    \n",
    "    elif i == \"MASTER\":\n",
    "        string = base_master + \"?api_key=\" + API_KEY\n",
    "        df_aux = getHighEloInfos(makeRequest(string))\n",
    "        df = df.append(df_aux,ignore_index = True)\n",
    "    \n",
    "    \n",
    "    elif i == \"GRANDMASTER\":\n",
    "        string = base_grand_master + \"?api_key=\" + API_KEY\n",
    "        df_aux = getHighEloInfos(makeRequest(string))\n",
    "        df = df.append(df_aux,ignore_index = True)\n",
    "    \n",
    "    else:\n",
    "        string = base_challenger + \"?api_key=\" + API_KEY\n",
    "        df_aux = getHighEloInfos(makeRequest(string))\n",
    "        df = df.append(df_aux,ignore_index = True)\n",
    "        "
   ]
  },
  {
   "cell_type": "code",
   "execution_count": 11,
   "metadata": {},
   "outputs": [],
   "source": [
    "df.to_csv(\"data/usersBasicInfos.csv\",index=False)"
   ]
  },
  {
   "cell_type": "code",
   "execution_count": 15,
   "metadata": {},
   "outputs": [],
   "source": [
    "df = pd.read_csv(\"data/usersBasicInfos.csv\")"
   ]
  },
  {
   "cell_type": "code",
   "execution_count": 16,
   "metadata": {},
   "outputs": [
    {
     "data": {
      "text/plain": [
       "(2737, 10)"
      ]
     },
     "execution_count": 16,
     "metadata": {},
     "output_type": "execute_result"
    }
   ],
   "source": [
    "df.shape"
   ]
  },
  {
   "cell_type": "code",
   "execution_count": 17,
   "metadata": {
    "scrolled": true
   },
   "outputs": [
    {
     "data": {
      "text/html": [
       "<div>\n",
       "<style scoped>\n",
       "    .dataframe tbody tr th:only-of-type {\n",
       "        vertical-align: middle;\n",
       "    }\n",
       "\n",
       "    .dataframe tbody tr th {\n",
       "        vertical-align: top;\n",
       "    }\n",
       "\n",
       "    .dataframe thead th {\n",
       "        text-align: right;\n",
       "    }\n",
       "</style>\n",
       "<table border=\"1\" class=\"dataframe\">\n",
       "  <thead>\n",
       "    <tr style=\"text-align: right;\">\n",
       "      <th></th>\n",
       "      <th>tier</th>\n",
       "      <th>summonerId</th>\n",
       "      <th>summonerName</th>\n",
       "      <th>leaguePoints</th>\n",
       "      <th>wins</th>\n",
       "      <th>losses</th>\n",
       "      <th>veteran</th>\n",
       "      <th>inactive</th>\n",
       "      <th>freshBlood</th>\n",
       "      <th>hotStreak</th>\n",
       "    </tr>\n",
       "  </thead>\n",
       "  <tbody>\n",
       "    <tr>\n",
       "      <td>0</td>\n",
       "      <td>DIAMONDI</td>\n",
       "      <td>a6XNnr-OC1673HAJaeCorjI1T9Sbe7gYJIBpbsu_CllJIOI</td>\n",
       "      <td>LokiFc</td>\n",
       "      <td>39</td>\n",
       "      <td>192</td>\n",
       "      <td>184</td>\n",
       "      <td>False</td>\n",
       "      <td>False</td>\n",
       "      <td>False</td>\n",
       "      <td>False</td>\n",
       "    </tr>\n",
       "    <tr>\n",
       "      <td>1</td>\n",
       "      <td>DIAMONDI</td>\n",
       "      <td>h_TlijF-s3RAtZaCyUVvBvgO-GGVuG60TqH3h7cTGrOKT18</td>\n",
       "      <td>lepanta</td>\n",
       "      <td>96</td>\n",
       "      <td>123</td>\n",
       "      <td>102</td>\n",
       "      <td>False</td>\n",
       "      <td>False</td>\n",
       "      <td>False</td>\n",
       "      <td>False</td>\n",
       "    </tr>\n",
       "  </tbody>\n",
       "</table>\n",
       "</div>"
      ],
      "text/plain": [
       "       tier                                       summonerId summonerName  \\\n",
       "0  DIAMONDI  a6XNnr-OC1673HAJaeCorjI1T9Sbe7gYJIBpbsu_CllJIOI       LokiFc   \n",
       "1  DIAMONDI  h_TlijF-s3RAtZaCyUVvBvgO-GGVuG60TqH3h7cTGrOKT18      lepanta   \n",
       "\n",
       "   leaguePoints  wins  losses  veteran  inactive  freshBlood  hotStreak  \n",
       "0            39   192     184    False     False       False      False  \n",
       "1            96   123     102    False     False       False      False  "
      ]
     },
     "execution_count": 17,
     "metadata": {},
     "output_type": "execute_result"
    }
   ],
   "source": [
    "df.head(2)"
   ]
  },
  {
   "cell_type": "markdown",
   "metadata": {},
   "source": [
    "#### Esses dados serão usados como base. Tipo uma semente para a construção do data set final"
   ]
  },
  {
   "cell_type": "markdown",
   "metadata": {},
   "source": [
    "#### Agora vamos enriquecer esses dados com mais informações "
   ]
  },
  {
   "cell_type": "code",
   "execution_count": 11,
   "metadata": {},
   "outputs": [],
   "source": [
    "def checkFields(response, fields):\n",
    "    for i in fields:\n",
    "        if i not in response:\n",
    "            return False\n",
    "    return True"
   ]
  },
  {
   "cell_type": "code",
   "execution_count": 12,
   "metadata": {},
   "outputs": [],
   "source": [
    "def getSummonerInfos(summonerNames):\n",
    "    list_dicts = []\n",
    "    count = 0\n",
    "    for i in summonerNames:\n",
    "        count+=1\n",
    "        if (count % 100) == 0:\n",
    "            df_temp = pd.DataFrame(list_dicts)\n",
    "            df_temp.to_csv(\"DataSummornerTemp.csv\")\n",
    "        string = base_summoner_infos + i + \"?api_key=\" + API_KEY\n",
    "        response = makeRequest(string)\n",
    "        infos_dict = {}\n",
    "        if checkFields(response,[\"accountId\",\"summonerLevel\",\"puuid\"]):\n",
    "            infos_dict[\"summonerName\"] = i\n",
    "            infos_dict[\"accountId\"] = response[\"accountId\"]\n",
    "            infos_dict[\"summonerLevel\"] = response[\"summonerLevel\"]\n",
    "            infos_dict[\"puuid\"] = response[\"puuid\"]\n",
    "            list_dicts.append(infos_dict)\n",
    "    return list_dicts"
   ]
  },
  {
   "cell_type": "code",
   "execution_count": 18,
   "metadata": {},
   "outputs": [],
   "source": [
    "names = df.summonerName.to_list()"
   ]
  },
  {
   "cell_type": "code",
   "execution_count": 19,
   "metadata": {},
   "outputs": [
    {
     "data": {
      "text/plain": [
       "2737"
      ]
     },
     "execution_count": 19,
     "metadata": {},
     "output_type": "execute_result"
    }
   ],
   "source": [
    "len(names)"
   ]
  },
  {
   "cell_type": "code",
   "execution_count": 22,
   "metadata": {},
   "outputs": [
    {
     "name": "stdout",
     "output_type": "stream",
     "text": [
      "CPU times: user 1min 18s, sys: 5.62 s, total: 1min 24s\n",
      "Wall time: 1h 26min 47s\n"
     ]
    }
   ],
   "source": [
    "%%time\n",
    "infos_plus = getSummonerInfos(names)"
   ]
  },
  {
   "cell_type": "code",
   "execution_count": 23,
   "metadata": {},
   "outputs": [
    {
     "data": {
      "text/plain": [
       "2661"
      ]
     },
     "execution_count": 23,
     "metadata": {},
     "output_type": "execute_result"
    }
   ],
   "source": [
    "len(infos_plus)"
   ]
  },
  {
   "cell_type": "code",
   "execution_count": 24,
   "metadata": {},
   "outputs": [],
   "source": [
    "df_summoner = pd.DataFrame(infos_plus)"
   ]
  },
  {
   "cell_type": "code",
   "execution_count": 26,
   "metadata": {},
   "outputs": [],
   "source": [
    "df_summoner.to_csv(\"data/summonerInfosPlus.csv\",index=False)"
   ]
  },
  {
   "cell_type": "code",
   "execution_count": 27,
   "metadata": {},
   "outputs": [],
   "source": [
    "df_summoner = pd.read_csv(\"data/summonerInfosPlus.csv\",index_col=\"summonerName\")"
   ]
  },
  {
   "cell_type": "code",
   "execution_count": 28,
   "metadata": {},
   "outputs": [
    {
     "data": {
      "text/html": [
       "<div>\n",
       "<style scoped>\n",
       "    .dataframe tbody tr th:only-of-type {\n",
       "        vertical-align: middle;\n",
       "    }\n",
       "\n",
       "    .dataframe tbody tr th {\n",
       "        vertical-align: top;\n",
       "    }\n",
       "\n",
       "    .dataframe thead th {\n",
       "        text-align: right;\n",
       "    }\n",
       "</style>\n",
       "<table border=\"1\" class=\"dataframe\">\n",
       "  <thead>\n",
       "    <tr style=\"text-align: right;\">\n",
       "      <th></th>\n",
       "      <th>accountId</th>\n",
       "      <th>summonerLevel</th>\n",
       "      <th>puuid</th>\n",
       "    </tr>\n",
       "    <tr>\n",
       "      <th>summonerName</th>\n",
       "      <th></th>\n",
       "      <th></th>\n",
       "      <th></th>\n",
       "    </tr>\n",
       "  </thead>\n",
       "  <tbody>\n",
       "    <tr>\n",
       "      <td>LokiFc</td>\n",
       "      <td>bk1m2_GS-2L9loYOKil6EbsEHnQOCY15LRVByLuQvjf46Cc</td>\n",
       "      <td>291</td>\n",
       "      <td>AvAT9pAFILqL0Eo0kWmFOXug4KyIBh4QprnfHU4Ao2e3Bj...</td>\n",
       "    </tr>\n",
       "    <tr>\n",
       "      <td>lepanta</td>\n",
       "      <td>B6nuFHgma2xw3B4ZYsSQeb38pgQxgajWykeB8OEZHm0sSO8</td>\n",
       "      <td>131</td>\n",
       "      <td>z2NP0f9IPVNevXHBEiZ5wjOHHwmqifJM0St3OpTjgI8xon...</td>\n",
       "    </tr>\n",
       "  </tbody>\n",
       "</table>\n",
       "</div>"
      ],
      "text/plain": [
       "                                                    accountId  summonerLevel  \\\n",
       "summonerName                                                                   \n",
       "LokiFc        bk1m2_GS-2L9loYOKil6EbsEHnQOCY15LRVByLuQvjf46Cc            291   \n",
       "lepanta       B6nuFHgma2xw3B4ZYsSQeb38pgQxgajWykeB8OEZHm0sSO8            131   \n",
       "\n",
       "                                                          puuid  \n",
       "summonerName                                                     \n",
       "LokiFc        AvAT9pAFILqL0Eo0kWmFOXug4KyIBh4QprnfHU4Ao2e3Bj...  \n",
       "lepanta       z2NP0f9IPVNevXHBEiZ5wjOHHwmqifJM0St3OpTjgI8xon...  "
      ]
     },
     "execution_count": 28,
     "metadata": {},
     "output_type": "execute_result"
    }
   ],
   "source": [
    "df_summoner.head(2)"
   ]
  },
  {
   "cell_type": "code",
   "execution_count": 29,
   "metadata": {},
   "outputs": [],
   "source": [
    "df_summonerFinal = df.join(df_summoner,how=\"inner\",on=\"summonerName\")"
   ]
  },
  {
   "cell_type": "code",
   "execution_count": 30,
   "metadata": {},
   "outputs": [
    {
     "data": {
      "text/plain": [
       "Index(['tier', 'summonerId', 'summonerName', 'leaguePoints', 'wins', 'losses',\n",
       "       'veteran', 'inactive', 'freshBlood', 'hotStreak', 'accountId',\n",
       "       'summonerLevel', 'puuid'],\n",
       "      dtype='object')"
      ]
     },
     "execution_count": 30,
     "metadata": {},
     "output_type": "execute_result"
    }
   ],
   "source": [
    "df_summonerFinal.columns"
   ]
  },
  {
   "cell_type": "code",
   "execution_count": 31,
   "metadata": {},
   "outputs": [],
   "source": [
    "df_summonerFinal.to_csv(\"data/SummonerFinalData.csv\")"
   ]
  },
  {
   "cell_type": "markdown",
   "metadata": {},
   "source": [
    "   ### Matchs Players"
   ]
  },
  {
   "cell_type": "code",
   "execution_count": 32,
   "metadata": {},
   "outputs": [],
   "source": [
    "df_summoners = pd.read_csv(\"data/SummonerFinalData.csv\")"
   ]
  },
  {
   "cell_type": "code",
   "execution_count": 33,
   "metadata": {},
   "outputs": [],
   "source": [
    "summoners_id = df_summoners.accountId.to_list()"
   ]
  },
  {
   "cell_type": "code",
   "execution_count": 34,
   "metadata": {},
   "outputs": [
    {
     "data": {
      "text/plain": [
       "2661"
      ]
     },
     "execution_count": 34,
     "metadata": {},
     "output_type": "execute_result"
    }
   ],
   "source": [
    "len(summoners_id)"
   ]
  },
  {
   "cell_type": "code",
   "execution_count": 36,
   "metadata": {},
   "outputs": [],
   "source": [
    "def getSummonerMatches(accountId):\n",
    "    result = watcher.match.matchlist_by_account(my_region,accountId)[\"matches\"]\n",
    "    return result\n",
    "    "
   ]
  },
  {
   "cell_type": "code",
   "execution_count": 37,
   "metadata": {},
   "outputs": [
    {
     "name": "stdout",
     "output_type": "stream",
     "text": [
      "CPU times: user 1min 27s, sys: 7.87 s, total: 1min 35s\n",
      "Wall time: 53min 12s\n"
     ]
    }
   ],
   "source": [
    "%%time\n",
    "summoner_list = []\n",
    "for summoner in summoners_id:\n",
    "    matches = {}\n",
    "    matches[\"accountId\"] = summoner\n",
    "    try:\n",
    "        matches[\"listMatches\"] = getSummonerMatches(summoner)\n",
    "    except:\n",
    "        time.sleep(5)\n",
    "        matches[\"listMatches\"] = getSummonerMatches(summoner)     \n",
    "    summoner_list.append(matches)  "
   ]
  },
  {
   "cell_type": "code",
   "execution_count": 40,
   "metadata": {},
   "outputs": [],
   "source": [
    "df_matches = pd.DataFrame(summoner_list)"
   ]
  },
  {
   "cell_type": "code",
   "execution_count": 39,
   "metadata": {},
   "outputs": [],
   "source": [
    "df_matches.to_csv(\"data/matchesBasicInfos.csv\")"
   ]
  },
  {
   "cell_type": "code",
   "execution_count": 41,
   "metadata": {},
   "outputs": [],
   "source": [
    "df_all = []"
   ]
  },
  {
   "cell_type": "code",
   "execution_count": 42,
   "metadata": {},
   "outputs": [],
   "source": [
    "for i in df_matches.values:\n",
    "    accountId = i[0]\n",
    "    df_temp = pd.DataFrame(i[1])\n",
    "    df_temp[\"accountId\"] = accountId\n",
    "    df_all.append(df_temp)"
   ]
  },
  {
   "cell_type": "code",
   "execution_count": 43,
   "metadata": {},
   "outputs": [],
   "source": [
    "df_final = pd.concat(df_all)\n"
   ]
  },
  {
   "cell_type": "code",
   "execution_count": 47,
   "metadata": {},
   "outputs": [],
   "source": [
    "df_final.to_csv(\"data/matchByAccounbtId.csv\",index=None)"
   ]
  },
  {
   "cell_type": "code",
   "execution_count": 4,
   "metadata": {},
   "outputs": [],
   "source": [
    "df_final = pd.read_csv(\"data/matchByAccounbtId.csv\")"
   ]
  },
  {
   "cell_type": "code",
   "execution_count": 5,
   "metadata": {},
   "outputs": [
    {
     "data": {
      "text/plain": [
       "(265905, 9)"
      ]
     },
     "execution_count": 5,
     "metadata": {},
     "output_type": "execute_result"
    }
   ],
   "source": [
    "df_final.shape"
   ]
  },
  {
   "cell_type": "code",
   "execution_count": 6,
   "metadata": {},
   "outputs": [
    {
     "data": {
      "text/html": [
       "<div>\n",
       "<style scoped>\n",
       "    .dataframe tbody tr th:only-of-type {\n",
       "        vertical-align: middle;\n",
       "    }\n",
       "\n",
       "    .dataframe tbody tr th {\n",
       "        vertical-align: top;\n",
       "    }\n",
       "\n",
       "    .dataframe thead th {\n",
       "        text-align: right;\n",
       "    }\n",
       "</style>\n",
       "<table border=\"1\" class=\"dataframe\">\n",
       "  <thead>\n",
       "    <tr style=\"text-align: right;\">\n",
       "      <th></th>\n",
       "      <th>platformId</th>\n",
       "      <th>gameId</th>\n",
       "      <th>champion</th>\n",
       "      <th>queue</th>\n",
       "      <th>season</th>\n",
       "      <th>timestamp</th>\n",
       "      <th>role</th>\n",
       "      <th>lane</th>\n",
       "      <th>accountId</th>\n",
       "    </tr>\n",
       "  </thead>\n",
       "  <tbody>\n",
       "    <tr>\n",
       "      <td>0</td>\n",
       "      <td>BR1</td>\n",
       "      <td>2071507283</td>\n",
       "      <td>114</td>\n",
       "      <td>440</td>\n",
       "      <td>13</td>\n",
       "      <td>1601166961222</td>\n",
       "      <td>SOLO</td>\n",
       "      <td>TOP</td>\n",
       "      <td>bk1m2_GS-2L9loYOKil6EbsEHnQOCY15LRVByLuQvjf46Cc</td>\n",
       "    </tr>\n",
       "    <tr>\n",
       "      <td>1</td>\n",
       "      <td>BR1</td>\n",
       "      <td>2071513192</td>\n",
       "      <td>236</td>\n",
       "      <td>440</td>\n",
       "      <td>13</td>\n",
       "      <td>1601164763566</td>\n",
       "      <td>DUO</td>\n",
       "      <td>TOP</td>\n",
       "      <td>bk1m2_GS-2L9loYOKil6EbsEHnQOCY15LRVByLuQvjf46Cc</td>\n",
       "    </tr>\n",
       "    <tr>\n",
       "      <td>2</td>\n",
       "      <td>BR1</td>\n",
       "      <td>2071489057</td>\n",
       "      <td>518</td>\n",
       "      <td>440</td>\n",
       "      <td>13</td>\n",
       "      <td>1601162891562</td>\n",
       "      <td>SOLO</td>\n",
       "      <td>MID</td>\n",
       "      <td>bk1m2_GS-2L9loYOKil6EbsEHnQOCY15LRVByLuQvjf46Cc</td>\n",
       "    </tr>\n",
       "  </tbody>\n",
       "</table>\n",
       "</div>"
      ],
      "text/plain": [
       "  platformId      gameId  champion  queue  season      timestamp  role lane  \\\n",
       "0        BR1  2071507283       114    440      13  1601166961222  SOLO  TOP   \n",
       "1        BR1  2071513192       236    440      13  1601164763566   DUO  TOP   \n",
       "2        BR1  2071489057       518    440      13  1601162891562  SOLO  MID   \n",
       "\n",
       "                                         accountId  \n",
       "0  bk1m2_GS-2L9loYOKil6EbsEHnQOCY15LRVByLuQvjf46Cc  \n",
       "1  bk1m2_GS-2L9loYOKil6EbsEHnQOCY15LRVByLuQvjf46Cc  \n",
       "2  bk1m2_GS-2L9loYOKil6EbsEHnQOCY15LRVByLuQvjf46Cc  "
      ]
     },
     "execution_count": 6,
     "metadata": {},
     "output_type": "execute_result"
    }
   ],
   "source": [
    "df_final.head(3)"
   ]
  },
  {
   "cell_type": "code",
   "execution_count": 7,
   "metadata": {},
   "outputs": [],
   "source": [
    "a = df_final.groupby(['accountId'])['gameId'].apply(lambda grp: grp.nlargest(10)).values"
   ]
  },
  {
   "cell_type": "code",
   "execution_count": 8,
   "metadata": {},
   "outputs": [],
   "source": [
    "df_final_filtered = df_final.query('gameId in @a')"
   ]
  },
  {
   "cell_type": "code",
   "execution_count": 9,
   "metadata": {},
   "outputs": [],
   "source": [
    "df_final_filtered.to_csv('data/matchByAccounbtIdFiltered10.csv',index=False)"
   ]
  },
  {
   "cell_type": "code",
   "execution_count": 2,
   "metadata": {},
   "outputs": [],
   "source": [
    "def getMatchStats(gameId):\n",
    "    match_detail = watcher.match.by_id(my_region, gameId)\n",
    "    participants = []\n",
    "    gameStats = []\n",
    "    for row in match_detail['participants']:\n",
    "        participants_row = {}\n",
    "        participants_row['gameId'] = gameId\n",
    "        participants_row['champion'] = row['championId']\n",
    "        participants_row['spell1'] = row['spell1Id']\n",
    "        participants_row['spell2'] = row['spell2Id']\n",
    "        participants_row['win'] = row['stats']['win']\n",
    "        participants_row['kills'] = row['stats']['kills']\n",
    "        participants_row['deaths'] = row['stats']['deaths']\n",
    "        participants_row['assists'] = row['stats']['assists']\n",
    "        participants_row['totalDamageDealt'] = row['stats']['totalDamageDealt']\n",
    "        participants_row['goldEarned'] = row['stats']['goldEarned']\n",
    "        participants_row['champLevel'] = row['stats']['champLevel']\n",
    "        participants_row['totalMinionsKilled'] = row['stats']['totalMinionsKilled']\n",
    "        participants_row['item0'] = row['stats']['item0']\n",
    "        participants_row['item1'] = row['stats']['item1']\n",
    "        participants.append(participants_row)\n",
    "    for row in match_detail['teams']:\n",
    "        row['gameId'] = gameId\n",
    "        gameStats.append(row)\n",
    "    return pd.DataFrame(participants), pd.DataFrame(gameStats)"
   ]
  },
  {
   "cell_type": "code",
   "execution_count": 9,
   "metadata": {},
   "outputs": [
    {
     "data": {
      "text/plain": [
       "53720"
      ]
     },
     "execution_count": 9,
     "metadata": {},
     "output_type": "execute_result"
    }
   ],
   "source": [
    "len(df_final_filtered.gameId.to_list())"
   ]
  },
  {
   "cell_type": "code",
   "execution_count": 18,
   "metadata": {},
   "outputs": [],
   "source": [
    "df_final = pd.read_csv('data/dataMatchesStatsBackup.csv')"
   ]
  },
  {
   "cell_type": "code",
   "execution_count": 21,
   "metadata": {},
   "outputs": [],
   "source": [
    "gameId_used = df_final.gameId.to_list()"
   ]
  },
  {
   "cell_type": "code",
   "execution_count": 22,
   "metadata": {},
   "outputs": [
    {
     "data": {
      "text/plain": [
       "46002"
      ]
     },
     "execution_count": 22,
     "metadata": {},
     "output_type": "execute_result"
    }
   ],
   "source": [
    "len(gameId_used)"
   ]
  },
  {
   "cell_type": "code",
   "execution_count": 23,
   "metadata": {},
   "outputs": [],
   "source": [
    "df_final_filtered = df_final_filtered.query( 'gameId not in @gameId_used')"
   ]
  },
  {
   "cell_type": "code",
   "execution_count": 24,
   "metadata": {},
   "outputs": [
    {
     "data": {
      "text/plain": [
       "7340"
      ]
     },
     "execution_count": 24,
     "metadata": {},
     "output_type": "execute_result"
    }
   ],
   "source": [
    "len(df_final_filtered.gameId.to_list())"
   ]
  },
  {
   "cell_type": "code",
   "execution_count": null,
   "metadata": {},
   "outputs": [],
   "source": []
  },
  {
   "cell_type": "markdown",
   "metadata": {},
   "source": [
    " ### Matche Stats"
   ]
  },
  {
   "cell_type": "code",
   "execution_count": 28,
   "metadata": {},
   "outputs": [
    {
     "name": "stdout",
     "output_type": "stream",
     "text": [
      "0\n",
      "504\n",
      "504\n",
      "1000\n",
      "504\n",
      "504\n",
      "504\n",
      "2000\n",
      "504\n",
      "504\n",
      "504\n",
      "3000\n",
      "504\n",
      "4000\n",
      "504\n",
      "5000\n",
      "504\n",
      "504\n",
      "6000\n",
      "504\n",
      "7000\n",
      "503\n",
      "CPU times: user 4min 30s, sys: 16.4 s, total: 4min 46s\n",
      "Wall time: 2h 27min 40s\n"
     ]
    }
   ],
   "source": [
    "%%time\n",
    "dataframes_players_stats = []\n",
    "gameStats = []\n",
    "count = 0\n",
    "for i in df_final_filtered.gameId.to_list():\n",
    "    try:\n",
    "        players , games = getMatchStats(i)\n",
    "        dataframes_players_stats.append(players)\n",
    "        gameStats.append(games) \n",
    "        if (count % 1000) == 0:\n",
    "            print(count)\n",
    "            pd.concat(gameStats).to_csv('data/dataMatchesStatsBackup.csv')\n",
    "            pd.concat(dataframes_players_stats).to_csv('data/playersMatchesStatsBackup.csv')\n",
    "        count+=1\n",
    "    except ApiError as err:\n",
    "        if err.response.status_code == 429:\n",
    "            print('We should retry in {} seconds.'.format(err.headers['Retry-After']))\n",
    "            print('this retry-after is handled by default by the RiotWatcher library')\n",
    "            print('future requests wait until the retry-after time passes')\n",
    "            time.sleep(err.headers['Retry-After'])\n",
    "        else:\n",
    "            print(err.response.status_code)\n",
    "            pd.concat(gameStats).to_csv('data/dataMatchesStatsBackup.csv')\n",
    "            pd.concat(dataframes_players_stats).to_csv('data/playersMatchesStatsBackup.csv')\n",
    "            continue\n",
    "            \n",
    "            "
   ]
  },
  {
   "cell_type": "markdown",
   "metadata": {},
   "source": [
    "#### Os passos abaixo só devem ser executados caso haja erro no processo acima"
   ]
  },
  {
   "cell_type": "code",
   "execution_count": 40,
   "metadata": {},
   "outputs": [],
   "source": [
    "df1 = pd.read_csv('dataMatchesStatsBackup.csv')\n",
    "df2 = pd.read_csv('playersMatchesStatsBackup.csv')"
   ]
  },
  {
   "cell_type": "code",
   "execution_count": 41,
   "metadata": {},
   "outputs": [],
   "source": [
    "df1.drop('Unnamed: 0', inplace=True,axis=1)\n",
    "df2.drop('Unnamed: 0', inplace=True,axis=1)"
   ]
  },
  {
   "cell_type": "code",
   "execution_count": 33,
   "metadata": {},
   "outputs": [],
   "source": [
    "games = pd.concat(gameStats)\n",
    "players = pd.concat(dataframes_players_stats)"
   ]
  },
  {
   "cell_type": "code",
   "execution_count": 44,
   "metadata": {},
   "outputs": [],
   "source": [
    "players_final = pd.concat([players,df2])\n",
    "games_final = pd.concat([games,df1])"
   ]
  },
  {
   "cell_type": "code",
   "execution_count": 45,
   "metadata": {},
   "outputs": [],
   "source": [
    "games_final.to_csv('data/dataMatchesStats.csv', index=False)\n",
    "players_final.to_csv('data/playersMatchesStats.csv',index=False)"
   ]
  },
  {
   "cell_type": "code",
   "execution_count": null,
   "metadata": {},
   "outputs": [],
   "source": []
  },
  {
   "cell_type": "code",
   "execution_count": null,
   "metadata": {},
   "outputs": [],
   "source": []
  }
 ],
 "metadata": {
  "kernelspec": {
   "display_name": "Python 3",
   "language": "python",
   "name": "python3"
  },
  "language_info": {
   "codemirror_mode": {
    "name": "ipython",
    "version": 3
   },
   "file_extension": ".py",
   "mimetype": "text/x-python",
   "name": "python",
   "nbconvert_exporter": "python",
   "pygments_lexer": "ipython3",
   "version": "3.7.4"
  }
 },
 "nbformat": 4,
 "nbformat_minor": 4
}
