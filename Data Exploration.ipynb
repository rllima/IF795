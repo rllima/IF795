{
 "cells": [
  {
   "cell_type": "code",
   "execution_count": 1,
   "metadata": {},
   "outputs": [],
   "source": [
    "import pandas as pd\n",
    "import numpy as np\n",
    "from pandas_profiling import ProfileReport"
   ]
  },
  {
   "cell_type": "markdown",
   "metadata": {},
   "source": [
    "#### Uma vez os dados sendo obtidos faremos análises em cima desses dados a fim de entende-los e indentificar features importantes para o objetivo do projeto: Abadonar a partida ou não.\n",
    "\n",
    "* Iremos começar com uma breve visão geral sobre como os dados estão divididos"
   ]
  },
  {
   "cell_type": "code",
   "execution_count": 2,
   "metadata": {},
   "outputs": [],
   "source": [
    "df_seed = pd.read_csv('queues_seed.csv')\n",
    "df_users = pd.read_csv(\"ids_data.csv\", index_col=\"id\")\n",
    "df_games = pd.read_csv(\"games_data.csv\")\n"
   ]
  },
  {
   "cell_type": "markdown",
   "metadata": {},
   "source": [
    "#### Esse é o o conjunto de dados base. Ele conta com 500 usuários. A partir dela obtivemos a listagem dos ultimos 10 jogos, anteriores a data de aquisição dos dados de usuários."
   ]
  },
  {
   "cell_type": "code",
   "execution_count": null,
   "metadata": {},
   "outputs": [],
   "source": [
    "df_users.info()"
   ]
  },
  {
   "cell_type": "code",
   "execution_count": 3,
   "metadata": {},
   "outputs": [
    {
     "name": "stdout",
     "output_type": "stream",
     "text": [
      "<class 'pandas.core.frame.DataFrame'>\n",
      "RangeIndex: 4095 entries, 0 to 4094\n",
      "Data columns (total 14 columns):\n",
      " #   Column              Non-Null Count  Dtype \n",
      "---  ------              --------------  ----- \n",
      " 0   gameId              4095 non-null   int64 \n",
      " 1   champion            4095 non-null   int64 \n",
      " 2   timestamp           4095 non-null   int64 \n",
      " 3   role                4095 non-null   object\n",
      " 4   lane                4095 non-null   object\n",
      " 5   accountId           4095 non-null   object\n",
      " 6   participantId       4095 non-null   int64 \n",
      " 7   win                 4095 non-null   bool  \n",
      " 8   kills               4095 non-null   int64 \n",
      " 9   deaths              4095 non-null   int64 \n",
      " 10  assists             4095 non-null   int64 \n",
      " 11  visionScore         4095 non-null   int64 \n",
      " 12  goldEarned          4095 non-null   int64 \n",
      " 13  totalMinionsKilled  4095 non-null   int64 \n",
      "dtypes: bool(1), int64(10), object(3)\n",
      "memory usage: 420.0+ KB\n"
     ]
    }
   ],
   "source": [
    "df_games.info()"
   ]
  },
  {
   "cell_type": "code",
   "execution_count": 4,
   "metadata": {},
   "outputs": [
    {
     "data": {
      "text/plain": [
       "accountId\n",
       "-TVRLXojJO8WYxWj-0BEoEZcVYGvqnygx75vl23z4PGv                10\n",
       "-TelwPBOJ8hpgeE57mGRL0o-CmhCWuDXgBhJl3zWtz7Gto0             10\n",
       "-fkz-VJiNdCXtgpx-ris8HpZDZJx3L2a46FF08ecZGM                 10\n",
       "-l0MnKEliB-rFUGK1Uwe6t365OTswDnLTJutAdR1uA0oTA4             10\n",
       "-lWgDd5QHaWgt8S63nSn5VTQzYo_AkEszR6j8aY2Qt8                 10\n",
       "                                                            ..\n",
       "ziTsfmb8kWekNNLkEYzQwlYJQXziHAUlO3H2XERbkMA                 10\n",
       "zlg2hzenzmPuCMEdkM2Q1KyBjg1KTQZWZoBVOHiFkxAbY6M             10\n",
       "zloyibzYNumrxny9dmK_KGqbAiRahIDmnQXFFziOrOpCtjk             10\n",
       "zqnney-5LYkiJa9za0ZqZyqLj1TTCmB5umUx2537vfPDpJE             10\n",
       "ztyHGuJxENcOnxgrvb-A_7rh6mAK68k-LrIeYUnG5bKjkNh5VXhztB5C    10\n",
       "Name: gameId, Length: 420, dtype: int64"
      ]
     },
     "execution_count": 4,
     "metadata": {},
     "output_type": "execute_result"
    }
   ],
   "source": [
    "df_games.groupby(\"accountId\")[\"gameId\"].count()"
   ]
  },
  {
   "cell_type": "code",
   "execution_count": null,
   "metadata": {},
   "outputs": [],
   "source": [
    "df_games.accountId.nunique()"
   ]
  },
  {
   "cell_type": "markdown",
   "metadata": {},
   "source": [
    "* champion = id para um champion especifico\n",
    "* timestamp = quando ocorreu a partida (usada para filtrar para as partidas apenas anteriores a data de aquisição dos dados)\n",
    "* role = \n",
    "* lane = \n"
   ]
  },
  {
   "cell_type": "code",
   "execution_count": null,
   "metadata": {},
   "outputs": [],
   "source": [
    "df_games_detailed = df_games_detailed.T.set_index(\"gameId\")"
   ]
  },
  {
   "cell_type": "code",
   "execution_count": null,
   "metadata": {},
   "outputs": [],
   "source": [
    "df_games_detailed.info()"
   ]
  },
  {
   "cell_type": "code",
   "execution_count": 8,
   "metadata": {},
   "outputs": [],
   "source": [
    "df_games.champion = df_games.champion.astype(\"category\")"
   ]
  },
  {
   "cell_type": "code",
   "execution_count": 10,
   "metadata": {},
   "outputs": [],
   "source": [
    "df_games.drop_duplicates(inplace=True)"
   ]
  },
  {
   "cell_type": "code",
   "execution_count": 12,
   "metadata": {},
   "outputs": [],
   "source": [
    "df_games.set_index(\"gameId\",inplace=True)"
   ]
  },
  {
   "cell_type": "markdown",
   "metadata": {},
   "source": [
    "### Exploracao dos dados"
   ]
  },
  {
   "cell_type": "code",
   "execution_count": 15,
   "metadata": {},
   "outputs": [],
   "source": [
    "profile = ProfileReport(df_games, title='Games general Report', explorative=True, infer_dtypes=False)"
   ]
  },
  {
   "cell_type": "code",
   "execution_count": 16,
   "metadata": {},
   "outputs": [
    {
     "data": {
      "application/vnd.jupyter.widget-view+json": {
       "model_id": "43ec84d511bf4a9c9f9cf0e3c5ea71a6",
       "version_major": 2,
       "version_minor": 0
      },
      "text/plain": [
       "HBox(children=(HTML(value='Summarize dataset'), FloatProgress(value=0.0, max=27.0), HTML(value='')))"
      ]
     },
     "metadata": {},
     "output_type": "display_data"
    },
    {
     "name": "stdout",
     "output_type": "stream",
     "text": [
      "\n"
     ]
    },
    {
     "data": {
      "application/vnd.jupyter.widget-view+json": {
       "model_id": "ee3be6c1ebd74c9aafd05c9625332de2",
       "version_major": 2,
       "version_minor": 0
      },
      "text/plain": [
       "HBox(children=(HTML(value='Generate report structure'), FloatProgress(value=0.0, max=1.0), HTML(value='')))"
      ]
     },
     "metadata": {},
     "output_type": "display_data"
    },
    {
     "name": "stdout",
     "output_type": "stream",
     "text": [
      "\n"
     ]
    },
    {
     "data": {
      "application/vnd.jupyter.widget-view+json": {
       "model_id": "627c1c48fb5f4308ba38c78144e720f9",
       "version_major": 2,
       "version_minor": 0
      },
      "text/plain": [
       "HBox(children=(HTML(value='Render HTML'), FloatProgress(value=0.0, max=1.0), HTML(value='')))"
      ]
     },
     "metadata": {},
     "output_type": "display_data"
    },
    {
     "name": "stdout",
     "output_type": "stream",
     "text": [
      "\n"
     ]
    },
    {
     "data": {
      "application/vnd.jupyter.widget-view+json": {
       "model_id": "e45ffb70bbbd45a5b22a19fc6a7d296d",
       "version_major": 2,
       "version_minor": 0
      },
      "text/plain": [
       "HBox(children=(HTML(value='Export report to file'), FloatProgress(value=0.0, max=1.0), HTML(value='')))"
      ]
     },
     "metadata": {},
     "output_type": "display_data"
    },
    {
     "name": "stdout",
     "output_type": "stream",
     "text": [
      "\n"
     ]
    }
   ],
   "source": [
    "profile.to_file(\"output.html\")"
   ]
  },
  {
   "cell_type": "code",
   "execution_count": null,
   "metadata": {},
   "outputs": [],
   "source": []
  }
 ],
 "metadata": {
  "kernelspec": {
   "display_name": "Python 3",
   "language": "python",
   "name": "python3"
  },
  "language_info": {
   "codemirror_mode": {
    "name": "ipython",
    "version": 3
   },
   "file_extension": ".py",
   "mimetype": "text/x-python",
   "name": "python",
   "nbconvert_exporter": "python",
   "pygments_lexer": "ipython3",
   "version": "3.7.4"
  }
 },
 "nbformat": 4,
 "nbformat_minor": 2
}
