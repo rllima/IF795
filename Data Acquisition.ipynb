{
 "cells": [
  {
   "cell_type": "code",
   "execution_count": 1,
   "metadata": {},
   "outputs": [],
   "source": [
    "import pandas as pd\n",
    "import numpy as np\n",
    "from riotwatcher import LolWatcher, ApiError\n",
    "from datetime import date\n",
    "import ast\n",
    "from pandas.io.json import json_normalize\n",
    "import json\n",
    "lol_watcher = LolWatcher('RGAPI-41c88fe1-f8d1-4ea4-83a7-9f5904bf3db7')\n",
    "queue = \"RANKED_SOLO_5x5\"\n",
    "my_region = 'BR1'"
   ]
  },
  {
   "cell_type": "code",
   "execution_count": 9,
   "metadata": {},
   "outputs": [],
   "source": [
    "try:\n",
    "    master_queue = lol_watcher.league.masters_by_queue(my_region,queue)\n",
    "    grandmaster_queue = lol_watcher.league.grandmaster_by_queue(my_region,queue)\n",
    "    challenger_queue = lol_watcher.league.grandmaster_by_queue(my_region,queue)\n",
    "except ApiError as err:\n",
    "    if err.response.status_code == 429:\n",
    "        print('We should retry in {} seconds.'.format(err.headers['Retry-After']))\n",
    "        print('this retry-after is handled by default by the RiotWatcher library')\n",
    "        print('future requests wait until the retry-after time passes')\n",
    "    elif err.response.status_code == 404:\n",
    "        print('Summoner with that ridiculous name not found.')\n",
    "    else:\n",
    "        raise"
   ]
  },
  {
   "cell_type": "code",
   "execution_count": 13,
   "metadata": {},
   "outputs": [],
   "source": [
    "today = date.today().strftime(\"%d/%m/%Y\")"
   ]
  },
  {
   "cell_type": "code",
   "execution_count": 29,
   "metadata": {},
   "outputs": [],
   "source": [
    "master_queue_df = pd.DataFrame(master_queue['entries'])\n",
    "master_queue_df['queue'] = 'master'\n",
    "grandmaster_queue_df = pd.DataFrame(grandmaster_queue['entries'])\n",
    "grandmaster_queue_df['queue'] = 'grandmaster'\n",
    "challenger_queue_df = pd.DataFrame(challenger_queue['entries'])\n",
    "challenger_queue_df['queue'] = 'challenger'"
   ]
  },
  {
   "cell_type": "code",
   "execution_count": 32,
   "metadata": {},
   "outputs": [],
   "source": [
    "queues = pd.concat([grandmaster_queue_df,challenger_queue_df])"
   ]
  },
  {
   "cell_type": "code",
   "execution_count": 34,
   "metadata": {},
   "outputs": [],
   "source": [
    "queues['date'] = today"
   ]
  },
  {
   "cell_type": "code",
   "execution_count": 35,
   "metadata": {},
   "outputs": [],
   "source": [
    "queues.to_csv(\"queues_seed.csv\",index=None)"
   ]
  },
  {
   "cell_type": "code",
   "execution_count": 30,
   "metadata": {},
   "outputs": [
    {
     "name": "stdout",
     "output_type": "stream",
     "text": [
      "Master User: 2180 GrandMaster Users : 500 Challenger User: 500\n"
     ]
    }
   ],
   "source": [
    "print(f\"Master User: {master_queue_df.summonerId.nunique()} GrandMaster Users : {grandmaster_queue_df.summonerId.nunique()} Challenger User: {challenger_queue_df.summonerId.nunique()}\")"
   ]
  },
  {
   "cell_type": "code",
   "execution_count": 2,
   "metadata": {},
   "outputs": [],
   "source": [
    "df_queues = pd.read_csv(\"queues_seed.csv\")"
   ]
  },
  {
   "cell_type": "markdown",
   "metadata": {},
   "source": [
    "#### Uma vez que obtevemos as informações dos jogadores que fazem parte das queues desejadas, devemos obter as informações gerais de outros ids usados para captura das partidas"
   ]
  },
  {
   "cell_type": "code",
   "execution_count": 3,
   "metadata": {},
   "outputs": [],
   "source": [
    "def get_id(row):\n",
    "    summonner_id = row['summonerId']\n",
    "    ids = lol_watcher.summoner.by_id(my_region, summonner_id)\n",
    "    return ids\n",
    "    "
   ]
  },
  {
   "cell_type": "code",
   "execution_count": 11,
   "metadata": {},
   "outputs": [],
   "source": [
    "df_temp = pd.DataFrame()"
   ]
  },
  {
   "cell_type": "code",
   "execution_count": 12,
   "metadata": {},
   "outputs": [],
   "source": [
    "df_temp['ids'] = df_queues.apply(get_id, axis = 1)"
   ]
  },
  {
   "cell_type": "code",
   "execution_count": 23,
   "metadata": {},
   "outputs": [],
   "source": [
    "df_temp = df_temp['ids'].apply(pd.Series)"
   ]
  },
  {
   "cell_type": "code",
   "execution_count": 25,
   "metadata": {},
   "outputs": [],
   "source": [
    "df_temp.to_csv(\"ids_data.csv\")"
   ]
  },
  {
   "cell_type": "markdown",
   "metadata": {},
   "source": [
    "### Uma vez que possuimos todos os ids necessarios, iremos buscar os dados de partida para cada player."
   ]
  },
  {
   "cell_type": "code",
   "execution_count": 3,
   "metadata": {},
   "outputs": [],
   "source": [
    "df_users = pd.read_csv(\"ids_data.csv\")"
   ]
  },
  {
   "cell_type": "code",
   "execution_count": 5,
   "metadata": {},
   "outputs": [],
   "source": [
    "df_queues.date = pd.to_datetime(df_queues.date)"
   ]
  },
  {
   "cell_type": "code",
   "execution_count": 6,
   "metadata": {},
   "outputs": [],
   "source": [
    "import datetime\n",
    "epoch = datetime.datetime.utcfromtimestamp(0)\n",
    "def unix_time_millis(dt):\n",
    "    return (dt - epoch).total_seconds() * 1000.0"
   ]
  },
  {
   "cell_type": "code",
   "execution_count": 7,
   "metadata": {},
   "outputs": [],
   "source": [
    "df_matches = list()\n",
    "up_date = int(unix_time_millis(df_queues.date[0]))"
   ]
  },
  {
   "cell_type": "code",
   "execution_count": 10,
   "metadata": {},
   "outputs": [],
   "source": [
    "def get_matches(account_id, date_limit):\n",
    "    up_date = int(unix_time_millis(df_queues.date[0]))\n",
    "    matches_list = lol_watcher.match.matchlist_by_account(my_region,account_id)\n",
    "    matches_list = pd.DataFrame(matches_list[\"matches\"])\n",
    "    matches_list = matches_list[matches_list.timestamp <= up_date].sort_values(by=\"timestamp\")\n",
    "    matches_list.drop(['platformId',\"queue\",\"season\"],axis=1,inplace=True)\n",
    "    return matches_list"
   ]
  },
  {
   "cell_type": "code",
   "execution_count": 11,
   "metadata": {},
   "outputs": [],
   "source": [
    "ids_users = df_users.accountId.unique()\n",
    "matches_data = list()\n",
    "matches_detail_data = dict()\n",
    "import time"
   ]
  },
  {
   "cell_type": "code",
   "execution_count": 13,
   "metadata": {},
   "outputs": [
    {
     "name": "stdout",
     "output_type": "stream",
     "text": [
      "504 Server Error: Gateway Timeout for url: https://br1.api.riotgames.com/lol/match/v4/matches/2208934898\n",
      "504 Server Error: Gateway Timeout for url: https://br1.api.riotgames.com/lol/match/v4/matchlists/by-account/2eiPSNoMI6KTvAh7UrqncoY_lfVRogV8IXZME9FYzq4HZDY\n",
      "504 Server Error: Gateway Timeout for url: https://br1.api.riotgames.com/lol/match/v4/matches/2192459153\n",
      "504 Server Error: Gateway Timeout for url: https://br1.api.riotgames.com/lol/match/v4/matches/2207443644\n",
      "504 Server Error: Gateway Timeout for url: https://br1.api.riotgames.com/lol/match/v4/matches/2204510099\n",
      "504 Server Error: Gateway Timeout for url: https://br1.api.riotgames.com/lol/match/v4/matches/2209185888\n",
      "504 Server Error: Gateway Timeout for url: https://br1.api.riotgames.com/lol/match/v4/matchlists/by-account/j0j-LGJHKUvyrB_KFEnbZU1MYuztKopppd9NWHzONT6lQAYxaA3gG0n0\n",
      "504 Server Error: Gateway Timeout for url: https://br1.api.riotgames.com/lol/match/v4/matches/2199479496\n",
      "504 Server Error: Gateway Timeout for url: https://br1.api.riotgames.com/lol/match/v4/matchlists/by-account/bJm5fpz87DF4k-TD5phKYqoGYrcS7vffhKnWgm8VcNhvrqK788vj2tbm\n",
      "504 Server Error: Gateway Timeout for url: https://br1.api.riotgames.com/lol/match/v4/matches/2204423530\n",
      "504 Server Error: Gateway Timeout for url: https://br1.api.riotgames.com/lol/match/v4/matchlists/by-account/CDjj3J4U4A6rKsqjsgWRTCf8Aaw2r8MC1SpA4dAYiwXhLGJt14iF-qlY\n"
     ]
    }
   ],
   "source": [
    "count = 1\n",
    "for id_u in ids_users:\n",
    "    if (count % 100 ) == 0:\n",
    "        print(count)\n",
    "        count+=1\n",
    "        pd.concat(matches_data).to_csv(\"matches_general_data_temp.csv\")\n",
    "        with open('matches_detailed_temp.json', 'w') as f:\n",
    "            json.dump(matches_detail_data, f)\n",
    "    try:\n",
    "        match_list = get_matches(id_u, up_date)\n",
    "        if not match_list.empty:\n",
    "            match_list = match_list.head(10)\n",
    "            match_list['accountId'] = id_u\n",
    "            matches_data.append(match_list)\n",
    "            games_ids = match_list.gameId.unique()\n",
    "            for game_id in games_ids:\n",
    "                matches_detail = lol_watcher.match.by_id(my_region, game_id)\n",
    "                if matches_detail:\n",
    "                    if game_id not in matches_detail_data:\n",
    "                        matches_detail_data[str(game_id)] = matches_detail\n",
    "                        time.sleep(0.05)     \n",
    "    except ApiError as err:\n",
    "        if err.response.status_code == 429:\n",
    "            print('We should retry in {} seconds.'.format(err.headers['Retry-After']))\n",
    "            print('this retry-after is handled by default by the RiotWatcher library')\n",
    "            print('future requests wait until the retry-after time passes')\n",
    "        elif err.response.status_code == 404:\n",
    "            print('Summoner with that ridiculous name not found.')\n",
    "        else:\n",
    "            print(err)\n",
    "            pass"
   ]
  },
  {
   "cell_type": "code",
   "execution_count": null,
   "metadata": {},
   "outputs": [],
   "source": [
    "pd.concat(matches_data).to_csv(\"matches_general_data.csv\")\n",
    "\n",
    "with open('matches_detailed.json', 'w') as f:\n",
    "    json.dump(matches_detail_data, f)"
   ]
  },
  {
   "cell_type": "code",
   "execution_count": 8,
   "metadata": {},
   "outputs": [
    {
     "data": {
      "text/plain": [
       "summonerId\n",
       "-1gtBmSbZkwdH65S7sCM2BjcUOpjbgVUAuxtQREtgRjC5n4               2\n",
       "-4hDcR3QcFs4Kcg9PABw2PfvLZGpwbc9bh2HmI8JxHJdZJU               2\n",
       "-A2SIDC7zT_Sxl0Mi6TA_RnXTCFeJCRdlCLZ1B2jfEWhw2c               2\n",
       "-KWhKQYh0TFOyfysqF1yUJraa-DT8dy5v8oXfypd4RIBcb-EoqQwBrxpiA    2\n",
       "-Mzbp3qe6K1GRyQvnuTKxHPlRuMJka5xUqvfKEwgbGU2y7Y               2\n",
       "                                                             ..\n",
       "zWCznIbntNkJoWUM5t1EolznUmLF2r8Cny1kidkScpDOSw                2\n",
       "zWfTEQuldVo2Ol3peYKT1e_U30dI5GL-Cubs5lHAfLVDOg                2\n",
       "zuNseQefxJHpfcbqrh8jzua05yOaB15yWHhUlT6aziuqicM               2\n",
       "zuZt-al5mEsHB0D66nZGlF8qT1JUKSkCKLIQWDUZ0q1CYQ                2\n",
       "zz6Ab1ZNqenEdlFZRY125LKlB-FIxI67CDaSaJw7JEMNig                2\n",
       "Name: queue, Length: 500, dtype: int64"
      ]
     },
     "execution_count": 8,
     "metadata": {},
     "output_type": "execute_result"
    }
   ],
   "source": [
    "df_queues.groupby(\"summonerId\")[\"queue\"].count()"
   ]
  },
  {
   "cell_type": "code",
   "execution_count": null,
   "metadata": {},
   "outputs": [],
   "source": []
  }
 ],
 "metadata": {
  "kernelspec": {
   "display_name": "Python 3",
   "language": "python",
   "name": "python3"
  },
  "language_info": {
   "codemirror_mode": {
    "name": "ipython",
    "version": 3
   },
   "file_extension": ".py",
   "mimetype": "text/x-python",
   "name": "python",
   "nbconvert_exporter": "python",
   "pygments_lexer": "ipython3",
   "version": "3.7.4"
  }
 },
 "nbformat": 4,
 "nbformat_minor": 4
}
