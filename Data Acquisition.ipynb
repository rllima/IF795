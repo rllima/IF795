{
 "cells": [
  {
   "cell_type": "code",
   "execution_count": 12,
   "metadata": {},
   "outputs": [],
   "source": [
    "import pandas as pd\n",
    "import numpy as np\n",
    "from riotwatcher import LolWatcher, ApiError\n",
    "from datetime import date\n",
    "lol_watcher = LolWatcher('RGAPI-6e158fbd-afc2-49d3-bbcd-ceb263434efc')\n",
    "queue = \"RANKED_SOLO_5x5\"\n",
    "my_region = 'BR1'"
   ]
  },
  {
   "cell_type": "code",
   "execution_count": 9,
   "metadata": {},
   "outputs": [],
   "source": [
    "try:\n",
    "    master_queue = lol_watcher.league.masters_by_queue(my_region,queue)\n",
    "    grandmaster_queue = lol_watcher.league.grandmaster_by_queue(my_region,queue)\n",
    "    challenger_queue = lol_watcher.league.grandmaster_by_queue(my_region,queue)\n",
    "except ApiError as err:\n",
    "    if err.response.status_code == 429:\n",
    "        print('We should retry in {} seconds.'.format(err.headers['Retry-After']))\n",
    "        print('this retry-after is handled by default by the RiotWatcher library')\n",
    "        print('future requests wait until the retry-after time passes')\n",
    "    elif err.response.status_code == 404:\n",
    "        print('Summoner with that ridiculous name not found.')\n",
    "    else:\n",
    "        raise"
   ]
  },
  {
   "cell_type": "code",
   "execution_count": 13,
   "metadata": {},
   "outputs": [],
   "source": [
    "today = date.today().strftime(\"%d/%m/%Y\")"
   ]
  },
  {
   "cell_type": "code",
   "execution_count": 29,
   "metadata": {},
   "outputs": [],
   "source": [
    "master_queue_df = pd.DataFrame(master_queue['entries'])\n",
    "master_queue_df['queue'] = 'master'\n",
    "grandmaster_queue_df = pd.DataFrame(grandmaster_queue['entries'])\n",
    "grandmaster_queue_df['queue'] = 'grandmaster'\n",
    "challenger_queue_df = pd.DataFrame(challenger_queue['entries'])\n",
    "challenger_queue_df['queue'] = 'challenger'"
   ]
  },
  {
   "cell_type": "code",
   "execution_count": 32,
   "metadata": {},
   "outputs": [],
   "source": [
    "queues = pd.concat([grandmaster_queue_df,challenger_queue_df])"
   ]
  },
  {
   "cell_type": "code",
   "execution_count": 34,
   "metadata": {},
   "outputs": [],
   "source": [
    "queues['date'] = today"
   ]
  },
  {
   "cell_type": "code",
   "execution_count": 35,
   "metadata": {},
   "outputs": [],
   "source": [
    "queues.to_csv(\"queues_seed.csv\",index=None)"
   ]
  },
  {
   "cell_type": "code",
   "execution_count": 30,
   "metadata": {},
   "outputs": [
    {
     "name": "stdout",
     "output_type": "stream",
     "text": [
      "Master User: 2180 GrandMaster Users : 500 Challenger User: 500\n"
     ]
    }
   ],
   "source": [
    "print(f\"Master User: {master_queue_df.summonerId.nunique()} GrandMaster Users : {grandmaster_queue_df.summonerId.nunique()} Challenger User: {challenger_queue_df.summonerId.nunique()}\")"
   ]
  },
  {
   "cell_type": "code",
   "execution_count": null,
   "metadata": {},
   "outputs": [],
   "source": []
  },
  {
   "cell_type": "code",
   "execution_count": null,
   "metadata": {},
   "outputs": [],
   "source": []
  }
 ],
 "metadata": {
  "kernelspec": {
   "display_name": "Python 3",
   "language": "python",
   "name": "python3"
  },
  "language_info": {
   "codemirror_mode": {
    "name": "ipython",
    "version": 3
   },
   "file_extension": ".py",
   "mimetype": "text/x-python",
   "name": "python",
   "nbconvert_exporter": "python",
   "pygments_lexer": "ipython3",
   "version": "3.7.4"
  }
 },
 "nbformat": 4,
 "nbformat_minor": 2
}
